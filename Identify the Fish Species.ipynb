{
 "cells": [
  {
   "cell_type": "markdown",
   "id": "b2f07ada",
   "metadata": {},
   "source": [
    "Identify the Fish Species"
   ]
  },
  {
   "cell_type": "code",
   "execution_count": 1,
   "id": "b3c04800",
   "metadata": {},
   "outputs": [],
   "source": [
    "# importing liabraries\n",
    "import pandas as pd\n",
    "import numpy as np\n",
    "import matplotlib.pyplot as plt"
   ]
  },
  {
   "cell_type": "code",
   "execution_count": 2,
   "id": "8c9cc1fd",
   "metadata": {},
   "outputs": [
    {
     "data": {
      "text/html": [
       "<div>\n",
       "<style scoped>\n",
       "    .dataframe tbody tr th:only-of-type {\n",
       "        vertical-align: middle;\n",
       "    }\n",
       "\n",
       "    .dataframe tbody tr th {\n",
       "        vertical-align: top;\n",
       "    }\n",
       "\n",
       "    .dataframe thead th {\n",
       "        text-align: right;\n",
       "    }\n",
       "</style>\n",
       "<table border=\"1\" class=\"dataframe\">\n",
       "  <thead>\n",
       "    <tr style=\"text-align: right;\">\n",
       "      <th></th>\n",
       "      <th>Species</th>\n",
       "      <th>Weight</th>\n",
       "      <th>Length1</th>\n",
       "      <th>Length2</th>\n",
       "      <th>Length3</th>\n",
       "      <th>Height</th>\n",
       "      <th>Width</th>\n",
       "    </tr>\n",
       "  </thead>\n",
       "  <tbody>\n",
       "    <tr>\n",
       "      <th>0</th>\n",
       "      <td>Bream</td>\n",
       "      <td>242.0</td>\n",
       "      <td>23.2</td>\n",
       "      <td>25.4</td>\n",
       "      <td>30.0</td>\n",
       "      <td>11.5200</td>\n",
       "      <td>4.0200</td>\n",
       "    </tr>\n",
       "    <tr>\n",
       "      <th>1</th>\n",
       "      <td>Bream</td>\n",
       "      <td>290.0</td>\n",
       "      <td>24.0</td>\n",
       "      <td>26.3</td>\n",
       "      <td>31.2</td>\n",
       "      <td>12.4800</td>\n",
       "      <td>4.3056</td>\n",
       "    </tr>\n",
       "    <tr>\n",
       "      <th>2</th>\n",
       "      <td>Bream</td>\n",
       "      <td>340.0</td>\n",
       "      <td>23.9</td>\n",
       "      <td>26.5</td>\n",
       "      <td>31.1</td>\n",
       "      <td>12.3778</td>\n",
       "      <td>4.6961</td>\n",
       "    </tr>\n",
       "    <tr>\n",
       "      <th>3</th>\n",
       "      <td>Bream</td>\n",
       "      <td>363.0</td>\n",
       "      <td>26.3</td>\n",
       "      <td>29.0</td>\n",
       "      <td>33.5</td>\n",
       "      <td>12.7300</td>\n",
       "      <td>4.4555</td>\n",
       "    </tr>\n",
       "    <tr>\n",
       "      <th>4</th>\n",
       "      <td>Bream</td>\n",
       "      <td>430.0</td>\n",
       "      <td>26.5</td>\n",
       "      <td>29.0</td>\n",
       "      <td>34.0</td>\n",
       "      <td>12.4440</td>\n",
       "      <td>5.1340</td>\n",
       "    </tr>\n",
       "  </tbody>\n",
       "</table>\n",
       "</div>"
      ],
      "text/plain": [
       "  Species  Weight  Length1  Length2  Length3   Height   Width\n",
       "0   Bream   242.0     23.2     25.4     30.0  11.5200  4.0200\n",
       "1   Bream   290.0     24.0     26.3     31.2  12.4800  4.3056\n",
       "2   Bream   340.0     23.9     26.5     31.1  12.3778  4.6961\n",
       "3   Bream   363.0     26.3     29.0     33.5  12.7300  4.4555\n",
       "4   Bream   430.0     26.5     29.0     34.0  12.4440  5.1340"
      ]
     },
     "execution_count": 2,
     "metadata": {},
     "output_type": "execute_result"
    }
   ],
   "source": [
    "#loading fish data set using read_csv command in pandas\n",
    "df=pd.read_csv('Fish.csv')\n",
    "df.head()"
   ]
  },
  {
   "cell_type": "code",
   "execution_count": 3,
   "id": "2b0f910d",
   "metadata": {},
   "outputs": [
    {
     "data": {
      "text/html": [
       "<div>\n",
       "<style scoped>\n",
       "    .dataframe tbody tr th:only-of-type {\n",
       "        vertical-align: middle;\n",
       "    }\n",
       "\n",
       "    .dataframe tbody tr th {\n",
       "        vertical-align: top;\n",
       "    }\n",
       "\n",
       "    .dataframe thead th {\n",
       "        text-align: right;\n",
       "    }\n",
       "</style>\n",
       "<table border=\"1\" class=\"dataframe\">\n",
       "  <thead>\n",
       "    <tr style=\"text-align: right;\">\n",
       "      <th></th>\n",
       "      <th>Species</th>\n",
       "      <th>Weight</th>\n",
       "      <th>Length1</th>\n",
       "      <th>Length2</th>\n",
       "      <th>Length3</th>\n",
       "      <th>Height</th>\n",
       "      <th>Width</th>\n",
       "    </tr>\n",
       "  </thead>\n",
       "  <tbody>\n",
       "    <tr>\n",
       "      <th>154</th>\n",
       "      <td>Smelt</td>\n",
       "      <td>12.2</td>\n",
       "      <td>11.5</td>\n",
       "      <td>12.2</td>\n",
       "      <td>13.4</td>\n",
       "      <td>2.0904</td>\n",
       "      <td>1.3936</td>\n",
       "    </tr>\n",
       "    <tr>\n",
       "      <th>155</th>\n",
       "      <td>Smelt</td>\n",
       "      <td>13.4</td>\n",
       "      <td>11.7</td>\n",
       "      <td>12.4</td>\n",
       "      <td>13.5</td>\n",
       "      <td>2.4300</td>\n",
       "      <td>1.2690</td>\n",
       "    </tr>\n",
       "    <tr>\n",
       "      <th>156</th>\n",
       "      <td>Smelt</td>\n",
       "      <td>12.2</td>\n",
       "      <td>12.1</td>\n",
       "      <td>13.0</td>\n",
       "      <td>13.8</td>\n",
       "      <td>2.2770</td>\n",
       "      <td>1.2558</td>\n",
       "    </tr>\n",
       "    <tr>\n",
       "      <th>157</th>\n",
       "      <td>Smelt</td>\n",
       "      <td>19.7</td>\n",
       "      <td>13.2</td>\n",
       "      <td>14.3</td>\n",
       "      <td>15.2</td>\n",
       "      <td>2.8728</td>\n",
       "      <td>2.0672</td>\n",
       "    </tr>\n",
       "    <tr>\n",
       "      <th>158</th>\n",
       "      <td>Smelt</td>\n",
       "      <td>19.9</td>\n",
       "      <td>13.8</td>\n",
       "      <td>15.0</td>\n",
       "      <td>16.2</td>\n",
       "      <td>2.9322</td>\n",
       "      <td>1.8792</td>\n",
       "    </tr>\n",
       "  </tbody>\n",
       "</table>\n",
       "</div>"
      ],
      "text/plain": [
       "    Species  Weight  Length1  Length2  Length3  Height   Width\n",
       "154   Smelt    12.2     11.5     12.2     13.4  2.0904  1.3936\n",
       "155   Smelt    13.4     11.7     12.4     13.5  2.4300  1.2690\n",
       "156   Smelt    12.2     12.1     13.0     13.8  2.2770  1.2558\n",
       "157   Smelt    19.7     13.2     14.3     15.2  2.8728  2.0672\n",
       "158   Smelt    19.9     13.8     15.0     16.2  2.9322  1.8792"
      ]
     },
     "execution_count": 3,
     "metadata": {},
     "output_type": "execute_result"
    }
   ],
   "source": [
    "df.tail()"
   ]
  },
  {
   "cell_type": "code",
   "execution_count": 4,
   "id": "60ba2ead",
   "metadata": {},
   "outputs": [
    {
     "data": {
      "text/plain": [
       "(159, 7)"
      ]
     },
     "execution_count": 4,
     "metadata": {},
     "output_type": "execute_result"
    }
   ],
   "source": [
    "df.shape"
   ]
  },
  {
   "cell_type": "code",
   "execution_count": 5,
   "id": "68e4bcbb",
   "metadata": {},
   "outputs": [
    {
     "name": "stdout",
     "output_type": "stream",
     "text": [
      "<class 'pandas.core.frame.DataFrame'>\n",
      "RangeIndex: 159 entries, 0 to 158\n",
      "Data columns (total 7 columns):\n",
      " #   Column   Non-Null Count  Dtype  \n",
      "---  ------   --------------  -----  \n",
      " 0   Species  159 non-null    object \n",
      " 1   Weight   159 non-null    float64\n",
      " 2   Length1  159 non-null    float64\n",
      " 3   Length2  159 non-null    float64\n",
      " 4   Length3  159 non-null    float64\n",
      " 5   Height   159 non-null    float64\n",
      " 6   Width    159 non-null    float64\n",
      "dtypes: float64(6), object(1)\n",
      "memory usage: 8.8+ KB\n"
     ]
    }
   ],
   "source": [
    "# getting some information about the dataset\n",
    "df.info()"
   ]
  },
  {
   "cell_type": "code",
   "execution_count": 6,
   "id": "25c8ca91",
   "metadata": {},
   "outputs": [
    {
     "data": {
      "text/plain": [
       "Species    0\n",
       "Weight     0\n",
       "Length1    0\n",
       "Length2    0\n",
       "Length3    0\n",
       "Height     0\n",
       "Width      0\n",
       "dtype: int64"
      ]
     },
     "execution_count": 6,
     "metadata": {},
     "output_type": "execute_result"
    }
   ],
   "source": [
    "#checking Null values\n",
    "df.isnull().sum()"
   ]
  },
  {
   "cell_type": "code",
   "execution_count": 7,
   "id": "4d150c1a",
   "metadata": {},
   "outputs": [
    {
     "data": {
      "text/plain": [
       "0"
      ]
     },
     "execution_count": 7,
     "metadata": {},
     "output_type": "execute_result"
    }
   ],
   "source": [
    "# checking duplicate values\n",
    "df.duplicated().sum()"
   ]
  },
  {
   "cell_type": "code",
   "execution_count": 8,
   "id": "9b197848",
   "metadata": {},
   "outputs": [
    {
     "data": {
      "text/plain": [
       "array(['Bream', 'Roach', 'Whitefish', 'Parkki', 'Perch', 'Pike', 'Smelt'],\n",
       "      dtype=object)"
      ]
     },
     "execution_count": 8,
     "metadata": {},
     "output_type": "execute_result"
    }
   ],
   "source": [
    "df[\"Species\"].unique()"
   ]
  },
  {
   "cell_type": "code",
   "execution_count": 9,
   "id": "d13deed2",
   "metadata": {},
   "outputs": [
    {
     "data": {
      "text/html": [
       "<div>\n",
       "<style scoped>\n",
       "    .dataframe tbody tr th:only-of-type {\n",
       "        vertical-align: middle;\n",
       "    }\n",
       "\n",
       "    .dataframe tbody tr th {\n",
       "        vertical-align: top;\n",
       "    }\n",
       "\n",
       "    .dataframe thead th {\n",
       "        text-align: right;\n",
       "    }\n",
       "</style>\n",
       "<table border=\"1\" class=\"dataframe\">\n",
       "  <thead>\n",
       "    <tr style=\"text-align: right;\">\n",
       "      <th></th>\n",
       "      <th>Weight</th>\n",
       "      <th>Length1</th>\n",
       "      <th>Length2</th>\n",
       "      <th>Length3</th>\n",
       "      <th>Height</th>\n",
       "      <th>Width</th>\n",
       "    </tr>\n",
       "  </thead>\n",
       "  <tbody>\n",
       "    <tr>\n",
       "      <th>count</th>\n",
       "      <td>159.000000</td>\n",
       "      <td>159.000000</td>\n",
       "      <td>159.000000</td>\n",
       "      <td>159.000000</td>\n",
       "      <td>159.000000</td>\n",
       "      <td>159.000000</td>\n",
       "    </tr>\n",
       "    <tr>\n",
       "      <th>mean</th>\n",
       "      <td>398.326415</td>\n",
       "      <td>26.247170</td>\n",
       "      <td>28.415723</td>\n",
       "      <td>31.227044</td>\n",
       "      <td>8.970994</td>\n",
       "      <td>4.417486</td>\n",
       "    </tr>\n",
       "    <tr>\n",
       "      <th>std</th>\n",
       "      <td>357.978317</td>\n",
       "      <td>9.996441</td>\n",
       "      <td>10.716328</td>\n",
       "      <td>11.610246</td>\n",
       "      <td>4.286208</td>\n",
       "      <td>1.685804</td>\n",
       "    </tr>\n",
       "    <tr>\n",
       "      <th>min</th>\n",
       "      <td>0.000000</td>\n",
       "      <td>7.500000</td>\n",
       "      <td>8.400000</td>\n",
       "      <td>8.800000</td>\n",
       "      <td>1.728400</td>\n",
       "      <td>1.047600</td>\n",
       "    </tr>\n",
       "    <tr>\n",
       "      <th>25%</th>\n",
       "      <td>120.000000</td>\n",
       "      <td>19.050000</td>\n",
       "      <td>21.000000</td>\n",
       "      <td>23.150000</td>\n",
       "      <td>5.944800</td>\n",
       "      <td>3.385650</td>\n",
       "    </tr>\n",
       "    <tr>\n",
       "      <th>50%</th>\n",
       "      <td>273.000000</td>\n",
       "      <td>25.200000</td>\n",
       "      <td>27.300000</td>\n",
       "      <td>29.400000</td>\n",
       "      <td>7.786000</td>\n",
       "      <td>4.248500</td>\n",
       "    </tr>\n",
       "    <tr>\n",
       "      <th>75%</th>\n",
       "      <td>650.000000</td>\n",
       "      <td>32.700000</td>\n",
       "      <td>35.500000</td>\n",
       "      <td>39.650000</td>\n",
       "      <td>12.365900</td>\n",
       "      <td>5.584500</td>\n",
       "    </tr>\n",
       "    <tr>\n",
       "      <th>max</th>\n",
       "      <td>1650.000000</td>\n",
       "      <td>59.000000</td>\n",
       "      <td>63.400000</td>\n",
       "      <td>68.000000</td>\n",
       "      <td>18.957000</td>\n",
       "      <td>8.142000</td>\n",
       "    </tr>\n",
       "  </tbody>\n",
       "</table>\n",
       "</div>"
      ],
      "text/plain": [
       "            Weight     Length1     Length2     Length3      Height       Width\n",
       "count   159.000000  159.000000  159.000000  159.000000  159.000000  159.000000\n",
       "mean    398.326415   26.247170   28.415723   31.227044    8.970994    4.417486\n",
       "std     357.978317    9.996441   10.716328   11.610246    4.286208    1.685804\n",
       "min       0.000000    7.500000    8.400000    8.800000    1.728400    1.047600\n",
       "25%     120.000000   19.050000   21.000000   23.150000    5.944800    3.385650\n",
       "50%     273.000000   25.200000   27.300000   29.400000    7.786000    4.248500\n",
       "75%     650.000000   32.700000   35.500000   39.650000   12.365900    5.584500\n",
       "max    1650.000000   59.000000   63.400000   68.000000   18.957000    8.142000"
      ]
     },
     "execution_count": 9,
     "metadata": {},
     "output_type": "execute_result"
    }
   ],
   "source": [
    "#checking statistical messures\n",
    "df.describe()"
   ]
  },
  {
   "cell_type": "code",
   "execution_count": 10,
   "id": "12d51d3f",
   "metadata": {},
   "outputs": [
    {
     "data": {
      "text/plain": [
       "array([[<AxesSubplot:title={'center':'Weight'}>]], dtype=object)"
      ]
     },
     "execution_count": 10,
     "metadata": {},
     "output_type": "execute_result"
    },
    {
     "data": {
      "image/png": "[encoded data removed]",
      "text/plain": [
       "<Figure size 432x288 with 1 Axes>"
      ]
     },
     "metadata": {
      "needs_background": "light"
     },
     "output_type": "display_data"
    }
   ],
   "source": [
    "#checking distribution of Weight\n",
    "df.hist('Weight')"
   ]
  },
  {
   "cell_type": "code",
   "execution_count": 11,
   "id": "b0c9a595",
   "metadata": {},
   "outputs": [
    {
     "data": {
      "text/plain": [
       "<AxesSubplot:>"
      ]
     },
     "execution_count": 11,
     "metadata": {},
     "output_type": "execute_result"
    },
    {
     "data": {
      "image/png": "[encoded data removed]",
      "text/plain": [
       "<Figure size 432x288 with 1 Axes>"
      ]
     },
     "metadata": {
      "needs_background": "light"
     },
     "output_type": "display_data"
    }
   ],
   "source": [
    "#checking outlier using boxplot\n",
    "df.boxplot('Weight')"
   ]
  },
  {
   "cell_type": "code",
   "execution_count": 12,
   "id": "16e3d7fd",
   "metadata": {},
   "outputs": [
    {
     "data": {
      "text/plain": [
       "<AxesSubplot:>"
      ]
     },
     "execution_count": 12,
     "metadata": {},
     "output_type": "execute_result"
    },
    {
     "data": {
      "image/png": "[encoded data removed]",
      "text/plain": [
       "<Figure size 432x288 with 1 Axes>"
      ]
     },
     "metadata": {
      "needs_background": "light"
     },
     "output_type": "display_data"
    }
   ],
   "source": [
    "#Removing outilier using below formula.\n",
    "df['A']=df['Weight']\n",
    "df=df.loc[(df.A>0) & (df.A<1250)]\n",
    "df['A']\n",
    "df.boxplot('A')"
   ]
  },
  {
   "cell_type": "code",
   "execution_count": 13,
   "id": "092d1754",
   "metadata": {},
   "outputs": [
    {
     "data": {
      "text/plain": [
       "<AxesSubplot:>"
      ]
     },
     "execution_count": 13,
     "metadata": {},
     "output_type": "execute_result"
    },
    {
     "data": {
      "image/png": "[encoded data removed]",
      "text/plain": [
       "<Figure size 432x288 with 1 Axes>"
      ]
     },
     "metadata": {
      "needs_background": "light"
     },
     "output_type": "display_data"
    }
   ],
   "source": [
    "# No outilier in this column.\n",
    "df.boxplot('Length1')"
   ]
  },
  {
   "cell_type": "code",
   "execution_count": 14,
   "id": "9dff6f9b",
   "metadata": {},
   "outputs": [
    {
     "data": {
      "text/plain": [
       "<AxesSubplot:>"
      ]
     },
     "execution_count": 14,
     "metadata": {},
     "output_type": "execute_result"
    },
    {
     "data": {
      "image/png": "[encoded data removed]",
      "text/plain": [
       "<Figure size 432x288 with 1 Axes>"
      ]
     },
     "metadata": {
      "needs_background": "light"
     },
     "output_type": "display_data"
    }
   ],
   "source": [
    "df.boxplot('Length2')"
   ]
  },
  {
   "cell_type": "code",
   "execution_count": 15,
   "id": "084f348f",
   "metadata": {},
   "outputs": [
    {
     "data": {
      "text/plain": [
       "<AxesSubplot:>"
      ]
     },
     "execution_count": 15,
     "metadata": {},
     "output_type": "execute_result"
    },
    {
     "data": {
      "image/png": "[encoded data removed]",
      "text/plain": [
       "<Figure size 432x288 with 1 Axes>"
      ]
     },
     "metadata": {
      "needs_background": "light"
     },
     "output_type": "display_data"
    }
   ],
   "source": [
    "df.boxplot('Length3')"
   ]
  },
  {
   "cell_type": "code",
   "execution_count": 16,
   "id": "4987b8da",
   "metadata": {},
   "outputs": [
    {
     "data": {
      "text/plain": [
       "<AxesSubplot:>"
      ]
     },
     "execution_count": 16,
     "metadata": {},
     "output_type": "execute_result"
    },
    {
     "data": {
      "image/png": "[encoded data removed]",
      "text/plain": [
       "<Figure size 432x288 with 1 Axes>"
      ]
     },
     "metadata": {
      "needs_background": "light"
     },
     "output_type": "display_data"
    }
   ],
   "source": [
    "df.boxplot('Height')"
   ]
  },
  {
   "cell_type": "code",
   "execution_count": 17,
   "id": "8063f414",
   "metadata": {},
   "outputs": [
    {
     "data": {
      "text/plain": [
       "<AxesSubplot:>"
      ]
     },
     "execution_count": 17,
     "metadata": {},
     "output_type": "execute_result"
    },
    {
     "data": {
      "image/png": "[encoded data removed]",
      "text/plain": [
       "<Figure size 432x288 with 1 Axes>"
      ]
     },
     "metadata": {
      "needs_background": "light"
     },
     "output_type": "display_data"
    }
   ],
   "source": [
    "df.boxplot('Width')"
   ]
  },
  {
   "cell_type": "code",
   "execution_count": 18,
   "id": "1a1e48c5",
   "metadata": {},
   "outputs": [
    {
     "data": {
      "text/plain": [
       "Index(['Species', 'Weight', 'Length1', 'Length2', 'Length3', 'Height', 'Width',\n",
       "       'A'],\n",
       "      dtype='object')"
      ]
     },
     "execution_count": 18,
     "metadata": {},
     "output_type": "execute_result"
    }
   ],
   "source": [
    "df.columns"
   ]
  },
  {
   "cell_type": "code",
   "execution_count": 19,
   "id": "608019b5",
   "metadata": {},
   "outputs": [],
   "source": [
    "df.drop(['A'], axis=1, inplace = True)"
   ]
  },
  {
   "cell_type": "code",
   "execution_count": 20,
   "id": "f738805a",
   "metadata": {},
   "outputs": [
    {
     "data": {
      "text/html": [
       "<div>\n",
       "<style scoped>\n",
       "    .dataframe tbody tr th:only-of-type {\n",
       "        vertical-align: middle;\n",
       "    }\n",
       "\n",
       "    .dataframe tbody tr th {\n",
       "        vertical-align: top;\n",
       "    }\n",
       "\n",
       "    .dataframe thead th {\n",
       "        text-align: right;\n",
       "    }\n",
       "</style>\n",
       "<table border=\"1\" class=\"dataframe\">\n",
       "  <thead>\n",
       "    <tr style=\"text-align: right;\">\n",
       "      <th></th>\n",
       "      <th>Species</th>\n",
       "      <th>Weight</th>\n",
       "      <th>Length1</th>\n",
       "      <th>Length2</th>\n",
       "      <th>Length3</th>\n",
       "      <th>Height</th>\n",
       "      <th>Width</th>\n",
       "    </tr>\n",
       "  </thead>\n",
       "  <tbody>\n",
       "    <tr>\n",
       "      <th>0</th>\n",
       "      <td>Bream</td>\n",
       "      <td>242.0</td>\n",
       "      <td>23.2</td>\n",
       "      <td>25.4</td>\n",
       "      <td>30.0</td>\n",
       "      <td>11.5200</td>\n",
       "      <td>4.0200</td>\n",
       "    </tr>\n",
       "    <tr>\n",
       "      <th>1</th>\n",
       "      <td>Bream</td>\n",
       "      <td>290.0</td>\n",
       "      <td>24.0</td>\n",
       "      <td>26.3</td>\n",
       "      <td>31.2</td>\n",
       "      <td>12.4800</td>\n",
       "      <td>4.3056</td>\n",
       "    </tr>\n",
       "    <tr>\n",
       "      <th>2</th>\n",
       "      <td>Bream</td>\n",
       "      <td>340.0</td>\n",
       "      <td>23.9</td>\n",
       "      <td>26.5</td>\n",
       "      <td>31.1</td>\n",
       "      <td>12.3778</td>\n",
       "      <td>4.6961</td>\n",
       "    </tr>\n",
       "    <tr>\n",
       "      <th>3</th>\n",
       "      <td>Bream</td>\n",
       "      <td>363.0</td>\n",
       "      <td>26.3</td>\n",
       "      <td>29.0</td>\n",
       "      <td>33.5</td>\n",
       "      <td>12.7300</td>\n",
       "      <td>4.4555</td>\n",
       "    </tr>\n",
       "    <tr>\n",
       "      <th>4</th>\n",
       "      <td>Bream</td>\n",
       "      <td>430.0</td>\n",
       "      <td>26.5</td>\n",
       "      <td>29.0</td>\n",
       "      <td>34.0</td>\n",
       "      <td>12.4440</td>\n",
       "      <td>5.1340</td>\n",
       "    </tr>\n",
       "    <tr>\n",
       "      <th>...</th>\n",
       "      <td>...</td>\n",
       "      <td>...</td>\n",
       "      <td>...</td>\n",
       "      <td>...</td>\n",
       "      <td>...</td>\n",
       "      <td>...</td>\n",
       "      <td>...</td>\n",
       "    </tr>\n",
       "    <tr>\n",
       "      <th>154</th>\n",
       "      <td>Smelt</td>\n",
       "      <td>12.2</td>\n",
       "      <td>11.5</td>\n",
       "      <td>12.2</td>\n",
       "      <td>13.4</td>\n",
       "      <td>2.0904</td>\n",
       "      <td>1.3936</td>\n",
       "    </tr>\n",
       "    <tr>\n",
       "      <th>155</th>\n",
       "      <td>Smelt</td>\n",
       "      <td>13.4</td>\n",
       "      <td>11.7</td>\n",
       "      <td>12.4</td>\n",
       "      <td>13.5</td>\n",
       "      <td>2.4300</td>\n",
       "      <td>1.2690</td>\n",
       "    </tr>\n",
       "    <tr>\n",
       "      <th>156</th>\n",
       "      <td>Smelt</td>\n",
       "      <td>12.2</td>\n",
       "      <td>12.1</td>\n",
       "      <td>13.0</td>\n",
       "      <td>13.8</td>\n",
       "      <td>2.2770</td>\n",
       "      <td>1.2558</td>\n",
       "    </tr>\n",
       "    <tr>\n",
       "      <th>157</th>\n",
       "      <td>Smelt</td>\n",
       "      <td>19.7</td>\n",
       "      <td>13.2</td>\n",
       "      <td>14.3</td>\n",
       "      <td>15.2</td>\n",
       "      <td>2.8728</td>\n",
       "      <td>2.0672</td>\n",
       "    </tr>\n",
       "    <tr>\n",
       "      <th>158</th>\n",
       "      <td>Smelt</td>\n",
       "      <td>19.9</td>\n",
       "      <td>13.8</td>\n",
       "      <td>15.0</td>\n",
       "      <td>16.2</td>\n",
       "      <td>2.9322</td>\n",
       "      <td>1.8792</td>\n",
       "    </tr>\n",
       "  </tbody>\n",
       "</table>\n",
       "<p>154 rows × 7 columns</p>\n",
       "</div>"
      ],
      "text/plain": [
       "    Species  Weight  Length1  Length2  Length3   Height   Width\n",
       "0     Bream   242.0     23.2     25.4     30.0  11.5200  4.0200\n",
       "1     Bream   290.0     24.0     26.3     31.2  12.4800  4.3056\n",
       "2     Bream   340.0     23.9     26.5     31.1  12.3778  4.6961\n",
       "3     Bream   363.0     26.3     29.0     33.5  12.7300  4.4555\n",
       "4     Bream   430.0     26.5     29.0     34.0  12.4440  5.1340\n",
       "..      ...     ...      ...      ...      ...      ...     ...\n",
       "154   Smelt    12.2     11.5     12.2     13.4   2.0904  1.3936\n",
       "155   Smelt    13.4     11.7     12.4     13.5   2.4300  1.2690\n",
       "156   Smelt    12.2     12.1     13.0     13.8   2.2770  1.2558\n",
       "157   Smelt    19.7     13.2     14.3     15.2   2.8728  2.0672\n",
       "158   Smelt    19.9     13.8     15.0     16.2   2.9322  1.8792\n",
       "\n",
       "[154 rows x 7 columns]"
      ]
     },
     "execution_count": 20,
     "metadata": {},
     "output_type": "execute_result"
    }
   ],
   "source": [
    "df"
   ]
  },
  {
   "cell_type": "code",
   "execution_count": 21,
   "id": "ba3047fe",
   "metadata": {},
   "outputs": [
    {
     "data": {
      "text/plain": [
       "<AxesSubplot:>"
      ]
     },
     "execution_count": 21,
     "metadata": {},
     "output_type": "execute_result"
    },
    {
     "data": {
      "image/png": "[encoded data removed]",
      "text/plain": [
       "<Figure size 432x288 with 1 Axes>"
      ]
     },
     "metadata": {
      "needs_background": "light"
     },
     "output_type": "display_data"
    }
   ],
   "source": [
    "df.boxplot('Weight')"
   ]
  },
  {
   "cell_type": "code",
   "execution_count": 22,
   "id": "e42f56df",
   "metadata": {},
   "outputs": [
    {
     "data": {
      "text/html": [
       "<div>\n",
       "<style scoped>\n",
       "    .dataframe tbody tr th:only-of-type {\n",
       "        vertical-align: middle;\n",
       "    }\n",
       "\n",
       "    .dataframe tbody tr th {\n",
       "        vertical-align: top;\n",
       "    }\n",
       "\n",
       "    .dataframe thead th {\n",
       "        text-align: right;\n",
       "    }\n",
       "</style>\n",
       "<table border=\"1\" class=\"dataframe\">\n",
       "  <thead>\n",
       "    <tr style=\"text-align: right;\">\n",
       "      <th></th>\n",
       "      <th>Species</th>\n",
       "      <th>Weight</th>\n",
       "      <th>Length1</th>\n",
       "      <th>Length2</th>\n",
       "      <th>Length3</th>\n",
       "      <th>Height</th>\n",
       "      <th>Width</th>\n",
       "    </tr>\n",
       "  </thead>\n",
       "  <tbody>\n",
       "    <tr>\n",
       "      <th>0</th>\n",
       "      <td>0</td>\n",
       "      <td>242.0</td>\n",
       "      <td>23.2</td>\n",
       "      <td>25.4</td>\n",
       "      <td>30.0</td>\n",
       "      <td>11.5200</td>\n",
       "      <td>4.0200</td>\n",
       "    </tr>\n",
       "    <tr>\n",
       "      <th>1</th>\n",
       "      <td>0</td>\n",
       "      <td>290.0</td>\n",
       "      <td>24.0</td>\n",
       "      <td>26.3</td>\n",
       "      <td>31.2</td>\n",
       "      <td>12.4800</td>\n",
       "      <td>4.3056</td>\n",
       "    </tr>\n",
       "    <tr>\n",
       "      <th>2</th>\n",
       "      <td>0</td>\n",
       "      <td>340.0</td>\n",
       "      <td>23.9</td>\n",
       "      <td>26.5</td>\n",
       "      <td>31.1</td>\n",
       "      <td>12.3778</td>\n",
       "      <td>4.6961</td>\n",
       "    </tr>\n",
       "    <tr>\n",
       "      <th>3</th>\n",
       "      <td>0</td>\n",
       "      <td>363.0</td>\n",
       "      <td>26.3</td>\n",
       "      <td>29.0</td>\n",
       "      <td>33.5</td>\n",
       "      <td>12.7300</td>\n",
       "      <td>4.4555</td>\n",
       "    </tr>\n",
       "    <tr>\n",
       "      <th>4</th>\n",
       "      <td>0</td>\n",
       "      <td>430.0</td>\n",
       "      <td>26.5</td>\n",
       "      <td>29.0</td>\n",
       "      <td>34.0</td>\n",
       "      <td>12.4440</td>\n",
       "      <td>5.1340</td>\n",
       "    </tr>\n",
       "  </tbody>\n",
       "</table>\n",
       "</div>"
      ],
      "text/plain": [
       "   Species  Weight  Length1  Length2  Length3   Height   Width\n",
       "0        0   242.0     23.2     25.4     30.0  11.5200  4.0200\n",
       "1        0   290.0     24.0     26.3     31.2  12.4800  4.3056\n",
       "2        0   340.0     23.9     26.5     31.1  12.3778  4.6961\n",
       "3        0   363.0     26.3     29.0     33.5  12.7300  4.4555\n",
       "4        0   430.0     26.5     29.0     34.0  12.4440  5.1340"
      ]
     },
     "execution_count": 22,
     "metadata": {},
     "output_type": "execute_result"
    }
   ],
   "source": [
    "df.replace({'Species':{'Bream':0, 'Roach':1, 'Whitefish':2, 'Parkki':3, 'Perch':4, 'Pike':5,'Smelt':6}}, inplace = True)\n",
    "                         \n",
    "df.head()"
   ]
  },
  {
   "cell_type": "code",
   "execution_count": 23,
   "id": "7b92a500",
   "metadata": {},
   "outputs": [
    {
     "data": {
      "text/html": [
       "<div>\n",
       "<style scoped>\n",
       "    .dataframe tbody tr th:only-of-type {\n",
       "        vertical-align: middle;\n",
       "    }\n",
       "\n",
       "    .dataframe tbody tr th {\n",
       "        vertical-align: top;\n",
       "    }\n",
       "\n",
       "    .dataframe thead th {\n",
       "        text-align: right;\n",
       "    }\n",
       "</style>\n",
       "<table border=\"1\" class=\"dataframe\">\n",
       "  <thead>\n",
       "    <tr style=\"text-align: right;\">\n",
       "      <th></th>\n",
       "      <th>Weight</th>\n",
       "      <th>Length1</th>\n",
       "      <th>Length2</th>\n",
       "      <th>Length3</th>\n",
       "      <th>Height</th>\n",
       "      <th>Width</th>\n",
       "    </tr>\n",
       "  </thead>\n",
       "  <tbody>\n",
       "    <tr>\n",
       "      <th>0</th>\n",
       "      <td>242.0</td>\n",
       "      <td>23.2</td>\n",
       "      <td>25.4</td>\n",
       "      <td>30.0</td>\n",
       "      <td>11.5200</td>\n",
       "      <td>4.0200</td>\n",
       "    </tr>\n",
       "    <tr>\n",
       "      <th>1</th>\n",
       "      <td>290.0</td>\n",
       "      <td>24.0</td>\n",
       "      <td>26.3</td>\n",
       "      <td>31.2</td>\n",
       "      <td>12.4800</td>\n",
       "      <td>4.3056</td>\n",
       "    </tr>\n",
       "    <tr>\n",
       "      <th>2</th>\n",
       "      <td>340.0</td>\n",
       "      <td>23.9</td>\n",
       "      <td>26.5</td>\n",
       "      <td>31.1</td>\n",
       "      <td>12.3778</td>\n",
       "      <td>4.6961</td>\n",
       "    </tr>\n",
       "    <tr>\n",
       "      <th>3</th>\n",
       "      <td>363.0</td>\n",
       "      <td>26.3</td>\n",
       "      <td>29.0</td>\n",
       "      <td>33.5</td>\n",
       "      <td>12.7300</td>\n",
       "      <td>4.4555</td>\n",
       "    </tr>\n",
       "    <tr>\n",
       "      <th>4</th>\n",
       "      <td>430.0</td>\n",
       "      <td>26.5</td>\n",
       "      <td>29.0</td>\n",
       "      <td>34.0</td>\n",
       "      <td>12.4440</td>\n",
       "      <td>5.1340</td>\n",
       "    </tr>\n",
       "  </tbody>\n",
       "</table>\n",
       "</div>"
      ],
      "text/plain": [
       "   Weight  Length1  Length2  Length3   Height   Width\n",
       "0   242.0     23.2     25.4     30.0  11.5200  4.0200\n",
       "1   290.0     24.0     26.3     31.2  12.4800  4.3056\n",
       "2   340.0     23.9     26.5     31.1  12.3778  4.6961\n",
       "3   363.0     26.3     29.0     33.5  12.7300  4.4555\n",
       "4   430.0     26.5     29.0     34.0  12.4440  5.1340"
      ]
     },
     "execution_count": 23,
     "metadata": {},
     "output_type": "execute_result"
    }
   ],
   "source": [
    "X= df.drop('Species',axis='columns')\n",
    "X.head()"
   ]
  },
  {
   "cell_type": "code",
   "execution_count": 24,
   "id": "2236803e",
   "metadata": {},
   "outputs": [
    {
     "name": "stdout",
     "output_type": "stream",
     "text": [
      "[[1.43158761 1.76960784 1.7852194  1.91576674 2.1366681  1.8379567 ]\n",
      " [1.51933096 1.80882353 1.82678984 1.96760259 2.2481107  1.91847091]\n",
      " [1.61073028 1.80392157 1.83602771 1.96328294 2.23624671 2.02855774]\n",
      " [1.65277397 1.92156863 1.95150115 2.06695464 2.27713221 1.96072959]\n",
      " [1.77524906 1.93137255 1.95150115 2.08855292 2.2439316  2.15200722]\n",
      " [1.81180879 1.94607843 1.98383372 2.1187905  2.37840567 2.0937641 ]\n",
      " [1.90320812 1.94607843 1.98383372 2.11015119 2.44539893 2.19274357]\n",
      " [1.7021296  1.98529412 1.99769053 2.13174946 2.27016705 2.02683807]\n",
      " [1.81180879 1.98529412 1.99769053 2.13606911 2.42513031 2.07019621]\n",
      " [1.90320812 2.02941176 2.03002309 2.18358531 2.45086658 2.1027853 ]\n",
      " [1.85750845 2.0245098  2.04387991 2.18358531 2.4550689  2.14360622]\n",
      " [1.90320812 2.03921569 2.04387991 2.18358531 2.46767584 2.06196437]\n",
      " [1.90320812 2.05882353 2.0669746  2.19222462 2.39660797 1.93606225]\n",
      " [1.61073028 2.07843137 2.09006928 2.23110151 2.41445039 2.13475417]\n",
      " [2.08600676 2.07352941 2.09006928 2.22678186 2.535354   2.1623816 ]\n",
      " [2.08600676 2.07352941 2.09006928 2.22678186 2.59149321 2.27774019]\n",
      " [2.26880541 2.12254902 2.13625866 2.27429806 2.52444192 2.19468877]\n",
      " [2.26880541 2.12254902 2.13625866 2.28293737 2.53345019 2.16990866]\n",
      " [2.10428663 2.14705882 2.15935335 2.28725702 2.61412999 2.15195083]\n",
      " [2.17740609 2.15196078 2.15935335 2.29157667 2.47956305 2.31935047]\n",
      " [2.0403071  2.16666667 2.18244804 2.32613391 2.55556458 2.27478011]\n",
      " [2.24138561 2.17156863 2.18244804 2.31317495 2.65599062 2.21865133]\n",
      " [2.12256649 2.17647059 2.20554273 2.33477322 2.6013257  2.19319463]\n",
      " [2.23224568 2.19117647 2.22863741 2.37365011 2.59504545 2.43296121]\n",
      " [2.26880541 2.19607843 2.22863741 2.36933045 2.68465226 2.2802774 ]\n",
      " [2.31450507 2.19117647 2.22863741 2.38660907 2.69852455 2.41114118]\n",
      " [2.30536514 2.20098039 2.22863741 2.37365011 2.6987335  2.42151556]\n",
      " [2.29439722 2.23529412 2.27482679 2.412527   2.71675006 2.35427943]\n",
      " [2.54300338 2.24019608 2.27482679 2.41684665 2.76000371 2.45207488]\n",
      " [2.81720135 2.2745098  2.32101617 2.4600432  3.         2.56613667]\n",
      " [2.67096243 2.34803922 2.39030023 2.52483801 2.89318923 2.48249323]\n",
      " [2.73494196 2.34803922 2.39030023 2.52051836 2.89865688 2.47846189]\n",
      " [2.68010237 2.40686275 2.43648961 2.57667387 2.97645775 2.60749323]\n",
      " [2.77150169 2.46568627 2.50577367 2.60259179 2.96266673 2.60681664]\n",
      " [2.72580203 2.49509804 2.50577367 2.62850972 2.84519926 2.50059202]\n",
      " [1.06233434 1.26470588 1.26327945 1.31965443 1.28078892 1.34404601]\n",
      " [1.11534595 1.44117647 1.45265589 1.49676026 1.41441556 1.50014096]\n",
      " [1.13179782 1.49019608 1.48036952 1.53563715 1.44660622 1.52345512]\n",
      " [1.1482497  1.5245098  1.52655889 1.57883369 1.45136575 1.59962788]\n",
      " [1.20857326 1.54411765 1.53579677 1.57883369 1.52094773 1.71228011]\n",
      " [1.19029339 1.56862745 1.57274827 1.61771058 1.51534077 1.66195873]\n",
      " [1.20857326 1.58333333 1.58198614 1.64362851 1.5091766  1.6333728 ]\n",
      " [1.26341285 1.63235294 1.62817552 1.68682505 1.47317832 1.76308074]\n",
      " [1.25427292 1.6372549  1.62817552 1.66954644 1.56946008 1.70483762]\n",
      " [1.28169272 1.6372549  1.65127021 1.71274298 1.61583646 1.78165877]\n",
      " [1.24513299 1.66176471 1.65127021 1.69978402 1.55972046 1.64202751]\n",
      " [1.28169272 1.66666667 1.65127021 1.69978402 1.54230756 1.77593595]\n",
      " [1.29814459 1.71078431 1.72055427 1.79481641 1.67399557 1.78585927]\n",
      " [1.2835207  1.71078431 1.69284065 1.77321814 1.6021267  1.72834912]\n",
      " [1.35481217 1.71568627 1.69745958 1.7775378  1.65802213 1.86817772]\n",
      " [1.31825244 1.78921569 1.77598152 1.825054   1.62201224 1.80581867]\n",
      " [1.51933096 1.80882353 1.81293303 1.8812095  1.82982947 1.97237258]\n",
      " [1.4864272  1.85784314 1.8591224  1.94168467 1.7939821  2.05040595]\n",
      " [1.7021296  2.07843137 2.07621247 2.13174946 1.900433   2.21430988]\n",
      " [1.48277123 1.78921569 1.81293303 1.85961123 1.77220436 1.90211998]\n",
      " [1.48277123 1.81372549 1.83602771 1.88552916 1.74492414 1.9023737 ]\n",
      " [1.54857874 1.8872549  1.90531178 1.95032397 1.81836017 2.02447   ]\n",
      " [1.97632758 2.02941176 2.04387991 2.08855292 2.04658533 2.55457826]\n",
      " [2.45160406 2.28431373 2.29330254 2.33045356 2.16466805 2.55784844]\n",
      " [2.81720135 2.46078431 2.4595843  2.49892009 2.23348386 2.5441475 ]\n",
      " [1.08975414 1.29411765 1.29099307 1.33261339 1.59425606 1.36053789]\n",
      " [1.09889407 1.33333333 1.32794457 1.37149028 1.56287801 1.35707037]\n",
      " [1.15373366 1.43137255 1.4295612  1.47516199 1.65899725 1.45822057]\n",
      " [1.20857326 1.49019608 1.48960739 1.5399568  1.77357417 1.52731732]\n",
      " [1.26341285 1.53431373 1.53579677 1.587473   1.83168685 1.63294993]\n",
      " [1.24513299 1.56372549 1.56812933 1.62203024 1.79045308 1.63340099]\n",
      " [1.29997258 1.56372549 1.56812933 1.62203024 1.89010134 1.66610284]\n",
      " [1.25427292 1.60294118 1.60508083 1.66090713 1.92961703 1.59469441]\n",
      " [1.35481217 1.67156863 1.6743649  1.73434125 2.00035987 1.73748309]\n",
      " [1.48825519 1.75980392 1.76674365 1.82937365 2.08651893 1.87291385]\n",
      " [1.53761082 1.80882353 1.81293303 1.87257019 2.11902302 1.89828597]\n",
      " [1.         1.         1.         1.         1.04453061 1.10160126]\n",
      " [1.04771045 1.24509804 1.2448037  1.25485961 1.20890844 1.26826793]\n",
      " [1.06233434 1.30882353 1.30484988 1.31101512 1.24326991 1.39027966]\n",
      " [1.08335618 1.36764706 1.36027714 1.36285097 1.33247043 1.44654939]\n",
      " [1.11717393 1.40196078 1.41570439 1.41900648 1.33195965 1.53391407]\n",
      " [1.17201353 1.42647059 1.44341801 1.44924406 1.40560463 1.64106901]\n",
      " [1.13179782 1.45588235 1.47575058 1.45788337 1.40291144 1.58519396]\n",
      " [1.1354538  1.4754902  1.48960739 1.4924406  1.4535946  1.56455796]\n",
      " [1.14459373 1.50490196 1.51732102 1.51835853 1.39576054 1.56078033]\n",
      " [1.14459373 1.5245098  1.53579677 1.52699784 1.38930615 1.48612991]\n",
      " [1.19029339 1.56372549 1.58198614 1.59179266 1.46017668 1.70686739]\n",
      " [1.19943332 1.56372549 1.58198614 1.59179266 1.48629604 1.63709405]\n",
      " [1.21771319 1.56372549 1.58198614 1.59179266 1.46017668 1.73858254]\n",
      " [1.22685312 1.57843137 1.59584296 1.60475162 1.54045018 1.70094723]\n",
      " [1.20857326 1.6127451  1.62817552 1.6349892  1.50864261 1.6652853 ]\n",
      " [1.20857326 1.6127451  1.62817552 1.6349892  1.45408217 1.69841001]\n",
      " [1.22685312 1.6127451  1.62817552 1.6349892  1.50864261 1.69841001]\n",
      " [1.23599305 1.6127451  1.62817552 1.6349892  1.48136239 1.69841001]\n",
      " [1.19029339 1.6127451  1.62817552 1.6349892  1.44044206 1.83090889]\n",
      " [1.22685312 1.6372549  1.65127021 1.65658747 1.47915675 1.72631935]\n",
      " [1.26341285 1.6372549  1.65127021 1.65658747 1.58781329 1.72631935]\n",
      " [1.25427292 1.64705882 1.66050808 1.66522678 1.49044031 1.72801083]\n",
      " [1.26341285 1.66176471 1.6743649  1.67818575 1.4051519  1.72688318]\n",
      " [1.29997258 1.68627451 1.69745958 1.69978402 1.5277968  1.75479251]\n",
      " [1.40051184 1.71078431 1.72055427 1.72138229 1.64597239 1.75422869]\n",
      " [1.25427292 1.71078431 1.72055427 1.72138229 1.53940541 1.78298376]\n",
      " [1.33287634 1.74019608 1.7482679  1.75161987 1.58101065 1.87905954]\n",
      " [1.31825244 1.75980392 1.76674365 1.76457883 1.54689296 1.74309314]\n",
      " [1.34932821 1.78431373 1.79445727 1.78617711 1.56099741 1.89969553]\n",
      " [1.38771593 1.85784314 1.83602771 1.82937365 1.63146164 1.87291385]\n",
      " [1.53761082 1.86764706 1.87297921 1.85961123 1.76554102 2.15293753]\n",
      " [1.46449136 1.87745098 1.88221709 1.86825054 1.63136877 1.92675913]\n",
      " [1.4736313  1.87745098 1.88221709 1.86825054 1.61794922 1.92675913]\n",
      " [1.4462115  1.87745098 1.88221709 1.86825054 1.64478832 1.9919373 ]\n",
      " [1.4462115  1.90196078 1.90531178 1.88984881 1.70719617 1.88988498]\n",
      " [1.53761082 1.95098039 1.93764434 1.92008639 1.67989274 2.01144565]\n",
      " [1.57417055 1.99509804 1.99769053 1.98488121 1.68342175 2.04984213]\n",
      " [1.92879993 2.12745098 2.12702079 2.08855292 1.96369989 2.40121786]\n",
      " [2.00557536 2.20098039 2.20554273 2.19654428 1.98999338 2.50538453]\n",
      " [2.52472352 2.2254902  2.22863741 2.23110151 2.13299978 2.9023737 ]\n",
      " [2.24138561 2.29901961 2.29792148 2.30453564 2.06248912 2.63971583]\n",
      " [2.26880541 2.29901961 2.27482679 2.27429806 2.03092532 2.60498421]\n",
      " [2.26880541 2.32352941 2.32101617 2.32181425 2.05714916 2.47073748]\n",
      " [2.25052555 2.32843137 2.32101617 2.3174946  2.0265837  2.49949256]\n",
      " [2.63440271 2.42156863 2.41339492 2.40820734 2.09216071 2.81715156]\n",
      " [2.17740609 2.42156863 2.41339492 2.40820734 2.09216071 2.39698917]\n",
      " [2.48816379 2.42647059 2.41339492 2.40388769 2.24245731 2.77711998]\n",
      " [2.54300338 2.44117647 2.4595843  2.44708423 2.18410086 2.70805142]\n",
      " [2.63440271 2.44607843 2.4595843  2.45572354 2.16104617 2.74148624]\n",
      " [2.84462115 2.44607843 2.4595843  2.45140389 2.23659496 2.80841227]\n",
      " [2.48816379 2.45098039 2.4595843  2.45572354 2.09197497 2.57374831]\n",
      " [3.         2.54411765 2.55196305 2.54643629 2.28528145 2.64095625]\n",
      " [2.81720135 2.58333333 2.59815242 2.57235421 2.18458842 2.75620207]\n",
      " [3.         2.59803922 2.59815242 2.58531317 2.2518835  2.79547249]\n",
      " [2.81720135 2.60294118 2.62124711 2.60691145 2.26250537 3.        ]\n",
      " [2.81720135 2.64705882 2.6443418  2.63282937 2.24913226 2.8460194 ]\n",
      " [1.35481217 2.10294118 2.1039261  2.12311015 1.44572397 1.65629229]\n",
      " [1.53761082 2.18627451 2.18244804 2.25269978 1.4619528  1.87686062]\n",
      " [1.53761082 2.23529412 2.22863741 2.29589633 1.48849007 1.94068561]\n",
      " [1.53761082 2.33823529 2.33487298 2.33909287 1.52935236 1.83790032]\n",
      " [1.77524906 2.37254902 2.36720554 2.36933045 1.64562414 1.994841  ]\n",
      " [1.61987021 2.39705882 2.39030023 2.39092873 1.54184321 1.82583446]\n",
      " [1.82277671 2.59313725 2.57505774 2.58531317 1.64446328 1.92323523]\n",
      " [1.92148798 2.59313725 2.57505774 2.58531317 1.59164413 1.96171628]\n",
      " [1.97632758 2.59803922 2.59815242 2.59827214 1.70320281 2.1507668 ]\n",
      " [1.90320812 2.69117647 2.69053118 2.69330454 1.60731574 2.08491204]\n",
      " [2.02568321 2.75       2.73672055 2.72354212 1.70389933 2.07758232]\n",
      " [2.39676446 2.82843137 2.82909931 2.83153348 1.69089769 2.22023004]\n",
      " [2.72580203 3.         3.         3.         1.83556412 2.44440686]\n",
      " [1.00146239 1.08823529 1.06466513 1.08639309 1.00120729 1.        ]\n",
      " [1.00292478 1.12254902 1.09699769 1.12095032 1.02827856 1.03168696]\n",
      " [1.00201079 1.12745098 1.10161663 1.12095032 1.         1.02841678]\n",
      " [1.00694635 1.14215686 1.12009238 1.13822894 1.05428183 1.09370771]\n",
      " [1.00712915 1.15686275 1.12933025 1.15550756 1.04118733 1.06472711]\n",
      " [1.00511836 1.16176471 1.13394919 1.16414687 1.02899829 1.06698241]\n",
      " [1.00749474 1.18627451 1.15704388 1.18574514 1.05635977 1.06658773]\n",
      " [1.00731195 1.18627451 1.15704388 1.18574514 1.05635977 1.03335025]\n",
      " [1.00712915 1.19117647 1.16628176 1.19006479 1.05525696 1.02841678]\n",
      " [1.01151631 1.19607843 1.17551963 1.1987041  1.04202315 1.09754172]\n",
      " [1.0137099  1.20588235 1.18475751 1.20302376 1.08144597 1.06241543]\n",
      " [1.01151631 1.2254902  1.21247113 1.21598272 1.0636848  1.05869418]\n",
      " [1.02522621 1.27941176 1.27251732 1.27645788 1.13284887 1.28743798]\n",
      " [1.02559181 1.30882353 1.30484988 1.31965443 1.13974438 1.23443843]]\n"
     ]
    }
   ],
   "source": [
    "#Standarizarion\n",
    "from sklearn import preprocessing\n",
    "data_scaler = preprocessing.MinMaxScaler(feature_range=(1,3))\n",
    "data_rescaled = data_scaler.fit_transform(X)\n",
    "print(data_rescaled)"
   ]
  },
  {
   "cell_type": "code",
   "execution_count": 25,
   "id": "3b2f4ad2",
   "metadata": {},
   "outputs": [
    {
     "data": {
      "text/plain": [
       "0    0\n",
       "1    0\n",
       "2    0\n",
       "3    0\n",
       "4    0\n",
       "Name: Species, dtype: int64"
      ]
     },
     "execution_count": 25,
     "metadata": {},
     "output_type": "execute_result"
    }
   ],
   "source": [
    "y=df['Species']\n",
    "y.head()"
   ]
  },
  {
   "cell_type": "code",
   "execution_count": 26,
   "id": "4f4b1ee8",
   "metadata": {},
   "outputs": [
    {
     "data": {
      "text/plain": [
       "array([0, 1, 2, 3, 4, 5, 6], dtype=int64)"
      ]
     },
     "execution_count": 26,
     "metadata": {},
     "output_type": "execute_result"
    }
   ],
   "source": [
    "y.unique()"
   ]
  },
  {
   "cell_type": "code",
   "execution_count": 27,
   "id": "8a7a1023",
   "metadata": {},
   "outputs": [
    {
     "data": {
      "text/html": [
       "<div>\n",
       "<style scoped>\n",
       "    .dataframe tbody tr th:only-of-type {\n",
       "        vertical-align: middle;\n",
       "    }\n",
       "\n",
       "    .dataframe tbody tr th {\n",
       "        vertical-align: top;\n",
       "    }\n",
       "\n",
       "    .dataframe thead th {\n",
       "        text-align: right;\n",
       "    }\n",
       "</style>\n",
       "<table border=\"1\" class=\"dataframe\">\n",
       "  <thead>\n",
       "    <tr style=\"text-align: right;\">\n",
       "      <th></th>\n",
       "      <th>Weight</th>\n",
       "      <th>Length1</th>\n",
       "      <th>Length2</th>\n",
       "      <th>Length3</th>\n",
       "      <th>Height</th>\n",
       "      <th>Width</th>\n",
       "    </tr>\n",
       "  </thead>\n",
       "  <tbody>\n",
       "    <tr>\n",
       "      <th>119</th>\n",
       "      <td>850.0</td>\n",
       "      <td>36.9</td>\n",
       "      <td>40.0</td>\n",
       "      <td>42.3</td>\n",
       "      <td>11.9286</td>\n",
       "      <td>7.1064</td>\n",
       "    </tr>\n",
       "    <tr>\n",
       "      <th>70</th>\n",
       "      <td>273.0</td>\n",
       "      <td>23.0</td>\n",
       "      <td>25.0</td>\n",
       "      <td>28.0</td>\n",
       "      <td>11.0880</td>\n",
       "      <td>4.1440</td>\n",
       "    </tr>\n",
       "    <tr>\n",
       "      <th>26</th>\n",
       "      <td>720.0</td>\n",
       "      <td>32.0</td>\n",
       "      <td>35.0</td>\n",
       "      <td>40.6</td>\n",
       "      <td>16.3618</td>\n",
       "      <td>6.0900</td>\n",
       "    </tr>\n",
       "    <tr>\n",
       "      <th>133</th>\n",
       "      <td>345.0</td>\n",
       "      <td>36.0</td>\n",
       "      <td>38.5</td>\n",
       "      <td>41.0</td>\n",
       "      <td>6.3960</td>\n",
       "      <td>3.9770</td>\n",
       "    </tr>\n",
       "    <tr>\n",
       "      <th>151</th>\n",
       "      <td>10.0</td>\n",
       "      <td>11.3</td>\n",
       "      <td>11.8</td>\n",
       "      <td>13.1</td>\n",
       "      <td>2.2139</td>\n",
       "      <td>1.2838</td>\n",
       "    </tr>\n",
       "    <tr>\n",
       "      <th>...</th>\n",
       "      <td>...</td>\n",
       "      <td>...</td>\n",
       "      <td>...</td>\n",
       "      <td>...</td>\n",
       "      <td>...</td>\n",
       "      <td>...</td>\n",
       "    </tr>\n",
       "    <tr>\n",
       "      <th>72</th>\n",
       "      <td>5.9</td>\n",
       "      <td>7.5</td>\n",
       "      <td>8.4</td>\n",
       "      <td>8.8</td>\n",
       "      <td>2.1120</td>\n",
       "      <td>1.4080</td>\n",
       "    </tr>\n",
       "    <tr>\n",
       "      <th>107</th>\n",
       "      <td>300.0</td>\n",
       "      <td>26.9</td>\n",
       "      <td>28.7</td>\n",
       "      <td>30.1</td>\n",
       "      <td>7.5852</td>\n",
       "      <td>4.6354</td>\n",
       "    </tr>\n",
       "    <tr>\n",
       "      <th>14</th>\n",
       "      <td>600.0</td>\n",
       "      <td>29.4</td>\n",
       "      <td>32.0</td>\n",
       "      <td>37.2</td>\n",
       "      <td>14.9544</td>\n",
       "      <td>5.1708</td>\n",
       "    </tr>\n",
       "    <tr>\n",
       "      <th>93</th>\n",
       "      <td>145.0</td>\n",
       "      <td>20.7</td>\n",
       "      <td>22.7</td>\n",
       "      <td>24.2</td>\n",
       "      <td>5.9532</td>\n",
       "      <td>3.6300</td>\n",
       "    </tr>\n",
       "    <tr>\n",
       "      <th>103</th>\n",
       "      <td>260.0</td>\n",
       "      <td>25.4</td>\n",
       "      <td>27.5</td>\n",
       "      <td>28.9</td>\n",
       "      <td>7.1672</td>\n",
       "      <td>4.3350</td>\n",
       "    </tr>\n",
       "  </tbody>\n",
       "</table>\n",
       "<p>123 rows × 6 columns</p>\n",
       "</div>"
      ],
      "text/plain": [
       "     Weight  Length1  Length2  Length3   Height   Width\n",
       "119   850.0     36.9     40.0     42.3  11.9286  7.1064\n",
       "70    273.0     23.0     25.0     28.0  11.0880  4.1440\n",
       "26    720.0     32.0     35.0     40.6  16.3618  6.0900\n",
       "133   345.0     36.0     38.5     41.0   6.3960  3.9770\n",
       "151    10.0     11.3     11.8     13.1   2.2139  1.2838\n",
       "..      ...      ...      ...      ...      ...     ...\n",
       "72      5.9      7.5      8.4      8.8   2.1120  1.4080\n",
       "107   300.0     26.9     28.7     30.1   7.5852  4.6354\n",
       "14    600.0     29.4     32.0     37.2  14.9544  5.1708\n",
       "93    145.0     20.7     22.7     24.2   5.9532  3.6300\n",
       "103   260.0     25.4     27.5     28.9   7.1672  4.3350\n",
       "\n",
       "[123 rows x 6 columns]"
      ]
     },
     "execution_count": 27,
     "metadata": {},
     "output_type": "execute_result"
    }
   ],
   "source": [
    "#Train Test split\n",
    "from sklearn.model_selection import train_test_split\n",
    "X_train,X_test,y_train,y_test=train_test_split(X,y,test_size=0.2,random_state=42)\n",
    "X_train"
   ]
  },
  {
   "cell_type": "code",
   "execution_count": 28,
   "id": "405e3a04",
   "metadata": {},
   "outputs": [
    {
     "data": {
      "text/html": [
       "<div>\n",
       "<style scoped>\n",
       "    .dataframe tbody tr th:only-of-type {\n",
       "        vertical-align: middle;\n",
       "    }\n",
       "\n",
       "    .dataframe tbody tr th {\n",
       "        vertical-align: top;\n",
       "    }\n",
       "\n",
       "    .dataframe thead th {\n",
       "        text-align: right;\n",
       "    }\n",
       "</style>\n",
       "<table border=\"1\" class=\"dataframe\">\n",
       "  <thead>\n",
       "    <tr style=\"text-align: right;\">\n",
       "      <th></th>\n",
       "      <th>Weight</th>\n",
       "      <th>Length1</th>\n",
       "      <th>Length2</th>\n",
       "      <th>Length3</th>\n",
       "      <th>Height</th>\n",
       "      <th>Width</th>\n",
       "    </tr>\n",
       "  </thead>\n",
       "  <tbody>\n",
       "    <tr>\n",
       "      <th>15</th>\n",
       "      <td>600.0</td>\n",
       "      <td>29.4</td>\n",
       "      <td>32.0</td>\n",
       "      <td>37.2</td>\n",
       "      <td>15.4380</td>\n",
       "      <td>5.5800</td>\n",
       "    </tr>\n",
       "    <tr>\n",
       "      <th>95</th>\n",
       "      <td>170.0</td>\n",
       "      <td>21.5</td>\n",
       "      <td>23.5</td>\n",
       "      <td>25.0</td>\n",
       "      <td>6.2750</td>\n",
       "      <td>3.7250</td>\n",
       "    </tr>\n",
       "    <tr>\n",
       "      <th>157</th>\n",
       "      <td>19.7</td>\n",
       "      <td>13.2</td>\n",
       "      <td>14.3</td>\n",
       "      <td>15.2</td>\n",
       "      <td>2.8728</td>\n",
       "      <td>2.0672</td>\n",
       "    </tr>\n",
       "    <tr>\n",
       "      <th>106</th>\n",
       "      <td>250.0</td>\n",
       "      <td>25.9</td>\n",
       "      <td>28.0</td>\n",
       "      <td>29.4</td>\n",
       "      <td>7.8204</td>\n",
       "      <td>4.2042</td>\n",
       "    </tr>\n",
       "    <tr>\n",
       "      <th>110</th>\n",
       "      <td>556.0</td>\n",
       "      <td>32.0</td>\n",
       "      <td>34.5</td>\n",
       "      <td>36.5</td>\n",
       "      <td>10.2565</td>\n",
       "      <td>6.3875</td>\n",
       "    </tr>\n",
       "    <tr>\n",
       "      <th>66</th>\n",
       "      <td>140.0</td>\n",
       "      <td>19.0</td>\n",
       "      <td>20.7</td>\n",
       "      <td>23.2</td>\n",
       "      <td>8.5376</td>\n",
       "      <td>3.2944</td>\n",
       "    </tr>\n",
       "    <tr>\n",
       "      <th>18</th>\n",
       "      <td>610.0</td>\n",
       "      <td>30.9</td>\n",
       "      <td>33.5</td>\n",
       "      <td>38.6</td>\n",
       "      <td>15.6330</td>\n",
       "      <td>5.1338</td>\n",
       "    </tr>\n",
       "    <tr>\n",
       "      <th>46</th>\n",
       "      <td>140.0</td>\n",
       "      <td>21.0</td>\n",
       "      <td>22.5</td>\n",
       "      <td>25.0</td>\n",
       "      <td>6.5500</td>\n",
       "      <td>3.3250</td>\n",
       "    </tr>\n",
       "    <tr>\n",
       "      <th>36</th>\n",
       "      <td>69.0</td>\n",
       "      <td>16.5</td>\n",
       "      <td>18.2</td>\n",
       "      <td>20.3</td>\n",
       "      <td>5.2983</td>\n",
       "      <td>2.8217</td>\n",
       "    </tr>\n",
       "    <tr>\n",
       "      <th>56</th>\n",
       "      <td>270.0</td>\n",
       "      <td>24.1</td>\n",
       "      <td>26.5</td>\n",
       "      <td>29.3</td>\n",
       "      <td>8.1454</td>\n",
       "      <td>4.2485</td>\n",
       "    </tr>\n",
       "    <tr>\n",
       "      <th>86</th>\n",
       "      <td>120.0</td>\n",
       "      <td>20.0</td>\n",
       "      <td>22.0</td>\n",
       "      <td>23.5</td>\n",
       "      <td>6.1100</td>\n",
       "      <td>3.4075</td>\n",
       "    </tr>\n",
       "    <tr>\n",
       "      <th>147</th>\n",
       "      <td>7.0</td>\n",
       "      <td>10.1</td>\n",
       "      <td>10.6</td>\n",
       "      <td>11.6</td>\n",
       "      <td>1.7284</td>\n",
       "      <td>1.1484</td>\n",
       "    </tr>\n",
       "    <tr>\n",
       "      <th>19</th>\n",
       "      <td>650.0</td>\n",
       "      <td>31.0</td>\n",
       "      <td>33.5</td>\n",
       "      <td>38.7</td>\n",
       "      <td>14.4738</td>\n",
       "      <td>5.7276</td>\n",
       "    </tr>\n",
       "    <tr>\n",
       "      <th>152</th>\n",
       "      <td>9.9</td>\n",
       "      <td>11.3</td>\n",
       "      <td>11.8</td>\n",
       "      <td>13.1</td>\n",
       "      <td>2.2139</td>\n",
       "      <td>1.1659</td>\n",
       "    </tr>\n",
       "    <tr>\n",
       "      <th>87</th>\n",
       "      <td>120.0</td>\n",
       "      <td>20.0</td>\n",
       "      <td>22.0</td>\n",
       "      <td>23.5</td>\n",
       "      <td>5.6400</td>\n",
       "      <td>3.5250</td>\n",
       "    </tr>\n",
       "    <tr>\n",
       "      <th>94</th>\n",
       "      <td>150.0</td>\n",
       "      <td>21.0</td>\n",
       "      <td>23.0</td>\n",
       "      <td>24.5</td>\n",
       "      <td>5.2185</td>\n",
       "      <td>3.6260</td>\n",
       "    </tr>\n",
       "    <tr>\n",
       "      <th>120</th>\n",
       "      <td>900.0</td>\n",
       "      <td>37.0</td>\n",
       "      <td>40.0</td>\n",
       "      <td>42.5</td>\n",
       "      <td>11.7300</td>\n",
       "      <td>7.2250</td>\n",
       "    </tr>\n",
       "    <tr>\n",
       "      <th>12</th>\n",
       "      <td>500.0</td>\n",
       "      <td>29.1</td>\n",
       "      <td>31.5</td>\n",
       "      <td>36.4</td>\n",
       "      <td>13.7592</td>\n",
       "      <td>4.3680</td>\n",
       "    </tr>\n",
       "    <tr>\n",
       "      <th>9</th>\n",
       "      <td>500.0</td>\n",
       "      <td>28.5</td>\n",
       "      <td>30.7</td>\n",
       "      <td>36.2</td>\n",
       "      <td>14.2266</td>\n",
       "      <td>4.9594</td>\n",
       "    </tr>\n",
       "    <tr>\n",
       "      <th>115</th>\n",
       "      <td>690.0</td>\n",
       "      <td>34.6</td>\n",
       "      <td>37.0</td>\n",
       "      <td>39.3</td>\n",
       "      <td>10.5717</td>\n",
       "      <td>6.3666</td>\n",
       "    </tr>\n",
       "    <tr>\n",
       "      <th>29</th>\n",
       "      <td>1000.0</td>\n",
       "      <td>33.5</td>\n",
       "      <td>37.0</td>\n",
       "      <td>42.6</td>\n",
       "      <td>18.9570</td>\n",
       "      <td>6.6030</td>\n",
       "    </tr>\n",
       "    <tr>\n",
       "      <th>43</th>\n",
       "      <td>150.0</td>\n",
       "      <td>20.4</td>\n",
       "      <td>22.0</td>\n",
       "      <td>24.7</td>\n",
       "      <td>5.8045</td>\n",
       "      <td>3.7544</td>\n",
       "    </tr>\n",
       "    <tr>\n",
       "      <th>136</th>\n",
       "      <td>540.0</td>\n",
       "      <td>40.1</td>\n",
       "      <td>43.0</td>\n",
       "      <td>45.8</td>\n",
       "      <td>7.7860</td>\n",
       "      <td>5.1296</td>\n",
       "    </tr>\n",
       "    <tr>\n",
       "      <th>68</th>\n",
       "      <td>145.0</td>\n",
       "      <td>19.8</td>\n",
       "      <td>21.5</td>\n",
       "      <td>24.1</td>\n",
       "      <td>9.7364</td>\n",
       "      <td>3.1571</td>\n",
       "    </tr>\n",
       "    <tr>\n",
       "      <th>137</th>\n",
       "      <td>500.0</td>\n",
       "      <td>42.0</td>\n",
       "      <td>45.0</td>\n",
       "      <td>48.0</td>\n",
       "      <td>6.9600</td>\n",
       "      <td>4.8960</td>\n",
       "    </tr>\n",
       "    <tr>\n",
       "      <th>30</th>\n",
       "      <td>920.0</td>\n",
       "      <td>35.0</td>\n",
       "      <td>38.5</td>\n",
       "      <td>44.1</td>\n",
       "      <td>18.0369</td>\n",
       "      <td>6.3063</td>\n",
       "    </tr>\n",
       "    <tr>\n",
       "      <th>97</th>\n",
       "      <td>145.0</td>\n",
       "      <td>22.0</td>\n",
       "      <td>24.0</td>\n",
       "      <td>25.5</td>\n",
       "      <td>6.3750</td>\n",
       "      <td>3.8250</td>\n",
       "    </tr>\n",
       "    <tr>\n",
       "      <th>31</th>\n",
       "      <td>955.0</td>\n",
       "      <td>35.0</td>\n",
       "      <td>38.5</td>\n",
       "      <td>44.0</td>\n",
       "      <td>18.0840</td>\n",
       "      <td>6.2920</td>\n",
       "    </tr>\n",
       "    <tr>\n",
       "      <th>79</th>\n",
       "      <td>80.0</td>\n",
       "      <td>17.2</td>\n",
       "      <td>19.0</td>\n",
       "      <td>20.2</td>\n",
       "      <td>5.6358</td>\n",
       "      <td>3.0502</td>\n",
       "    </tr>\n",
       "    <tr>\n",
       "      <th>67</th>\n",
       "      <td>170.0</td>\n",
       "      <td>19.0</td>\n",
       "      <td>20.7</td>\n",
       "      <td>23.2</td>\n",
       "      <td>9.3960</td>\n",
       "      <td>3.4104</td>\n",
       "    </tr>\n",
       "    <tr>\n",
       "      <th>145</th>\n",
       "      <td>6.7</td>\n",
       "      <td>9.3</td>\n",
       "      <td>9.8</td>\n",
       "      <td>10.8</td>\n",
       "      <td>1.7388</td>\n",
       "      <td>1.0476</td>\n",
       "    </tr>\n",
       "  </tbody>\n",
       "</table>\n",
       "</div>"
      ],
      "text/plain": [
       "     Weight  Length1  Length2  Length3   Height   Width\n",
       "15    600.0     29.4     32.0     37.2  15.4380  5.5800\n",
       "95    170.0     21.5     23.5     25.0   6.2750  3.7250\n",
       "157    19.7     13.2     14.3     15.2   2.8728  2.0672\n",
       "106   250.0     25.9     28.0     29.4   7.8204  4.2042\n",
       "110   556.0     32.0     34.5     36.5  10.2565  6.3875\n",
       "66    140.0     19.0     20.7     23.2   8.5376  3.2944\n",
       "18    610.0     30.9     33.5     38.6  15.6330  5.1338\n",
       "46    140.0     21.0     22.5     25.0   6.5500  3.3250\n",
       "36     69.0     16.5     18.2     20.3   5.2983  2.8217\n",
       "56    270.0     24.1     26.5     29.3   8.1454  4.2485\n",
       "86    120.0     20.0     22.0     23.5   6.1100  3.4075\n",
       "147     7.0     10.1     10.6     11.6   1.7284  1.1484\n",
       "19    650.0     31.0     33.5     38.7  14.4738  5.7276\n",
       "152     9.9     11.3     11.8     13.1   2.2139  1.1659\n",
       "87    120.0     20.0     22.0     23.5   5.6400  3.5250\n",
       "94    150.0     21.0     23.0     24.5   5.2185  3.6260\n",
       "120   900.0     37.0     40.0     42.5  11.7300  7.2250\n",
       "12    500.0     29.1     31.5     36.4  13.7592  4.3680\n",
       "9     500.0     28.5     30.7     36.2  14.2266  4.9594\n",
       "115   690.0     34.6     37.0     39.3  10.5717  6.3666\n",
       "29   1000.0     33.5     37.0     42.6  18.9570  6.6030\n",
       "43    150.0     20.4     22.0     24.7   5.8045  3.7544\n",
       "136   540.0     40.1     43.0     45.8   7.7860  5.1296\n",
       "68    145.0     19.8     21.5     24.1   9.7364  3.1571\n",
       "137   500.0     42.0     45.0     48.0   6.9600  4.8960\n",
       "30    920.0     35.0     38.5     44.1  18.0369  6.3063\n",
       "97    145.0     22.0     24.0     25.5   6.3750  3.8250\n",
       "31    955.0     35.0     38.5     44.0  18.0840  6.2920\n",
       "79     80.0     17.2     19.0     20.2   5.6358  3.0502\n",
       "67    170.0     19.0     20.7     23.2   9.3960  3.4104\n",
       "145     6.7      9.3      9.8     10.8   1.7388  1.0476"
      ]
     },
     "execution_count": 28,
     "metadata": {},
     "output_type": "execute_result"
    }
   ],
   "source": [
    "X_test"
   ]
  },
  {
   "cell_type": "code",
   "execution_count": 29,
   "id": "cd988da5",
   "metadata": {},
   "outputs": [
    {
     "data": {
      "text/plain": [
       "119    4\n",
       "70     3\n",
       "26     0\n",
       "133    5\n",
       "151    6\n",
       "      ..\n",
       "72     4\n",
       "107    4\n",
       "14     0\n",
       "93     4\n",
       "103    4\n",
       "Name: Species, Length: 123, dtype: int64"
      ]
     },
     "execution_count": 29,
     "metadata": {},
     "output_type": "execute_result"
    }
   ],
   "source": [
    "y_train"
   ]
  },
  {
   "cell_type": "code",
   "execution_count": 30,
   "id": "456881f4",
   "metadata": {},
   "outputs": [
    {
     "data": {
      "text/plain": [
       "15     0\n",
       "95     4\n",
       "157    6\n",
       "106    4\n",
       "110    4\n",
       "66     3\n",
       "18     0\n",
       "46     1\n",
       "36     1\n",
       "56     2\n",
       "86     4\n",
       "147    6\n",
       "19     0\n",
       "152    6\n",
       "87     4\n",
       "94     4\n",
       "120    4\n",
       "12     0\n",
       "9      0\n",
       "115    4\n",
       "29     0\n",
       "43     1\n",
       "136    5\n",
       "68     3\n",
       "137    5\n",
       "30     0\n",
       "97     4\n",
       "31     0\n",
       "79     4\n",
       "67     3\n",
       "145    6\n",
       "Name: Species, dtype: int64"
      ]
     },
     "execution_count": 30,
     "metadata": {},
     "output_type": "execute_result"
    }
   ],
   "source": [
    "y_test"
   ]
  },
  {
   "cell_type": "code",
   "execution_count": 31,
   "id": "11291f8e",
   "metadata": {},
   "outputs": [],
   "source": [
    "from sklearn.linear_model import LinearRegression\n",
    "lr = LinearRegression()\n",
    "from sklearn.svm import SVR\n",
    "svm= SVR()\n",
    "from sklearn.ensemble import RandomForestRegressor\n",
    "rf= RandomForestRegressor()\n",
    "from sklearn.ensemble import GradientBoostingRegressor\n",
    "gr= GradientBoostingRegressor()\n"
   ]
  },
  {
   "cell_type": "code",
   "execution_count": 32,
   "id": "00c060f3",
   "metadata": {},
   "outputs": [],
   "source": [
    "lr=lr.fit(X_train, y_train)\n",
    "svm=svm.fit(X_train, y_train)\n",
    "rf=rf.fit(X_train, y_train)\n",
    "gr=gr.fit(X_train, y_train)"
   ]
  },
  {
   "cell_type": "code",
   "execution_count": 33,
   "id": "a9428946",
   "metadata": {},
   "outputs": [
    {
     "data": {
      "text/html": [
       "<div>\n",
       "<style scoped>\n",
       "    .dataframe tbody tr th:only-of-type {\n",
       "        vertical-align: middle;\n",
       "    }\n",
       "\n",
       "    .dataframe tbody tr th {\n",
       "        vertical-align: top;\n",
       "    }\n",
       "\n",
       "    .dataframe thead th {\n",
       "        text-align: right;\n",
       "    }\n",
       "</style>\n",
       "<table border=\"1\" class=\"dataframe\">\n",
       "  <thead>\n",
       "    <tr style=\"text-align: right;\">\n",
       "      <th></th>\n",
       "      <th>Actual</th>\n",
       "      <th>lr</th>\n",
       "      <th>svm</th>\n",
       "      <th>rf</th>\n",
       "      <th>gr</th>\n",
       "    </tr>\n",
       "  </thead>\n",
       "  <tbody>\n",
       "    <tr>\n",
       "      <th>15</th>\n",
       "      <td>0</td>\n",
       "      <td>-0.338543</td>\n",
       "      <td>0.775178</td>\n",
       "      <td>0.00</td>\n",
       "      <td>-0.116471</td>\n",
       "    </tr>\n",
       "    <tr>\n",
       "      <th>95</th>\n",
       "      <td>4</td>\n",
       "      <td>3.857336</td>\n",
       "      <td>3.388653</td>\n",
       "      <td>1.88</td>\n",
       "      <td>1.734274</td>\n",
       "    </tr>\n",
       "    <tr>\n",
       "      <th>157</th>\n",
       "      <td>6</td>\n",
       "      <td>4.787683</td>\n",
       "      <td>4.429514</td>\n",
       "      <td>4.68</td>\n",
       "      <td>4.284954</td>\n",
       "    </tr>\n",
       "    <tr>\n",
       "      <th>106</th>\n",
       "      <td>4</td>\n",
       "      <td>4.238112</td>\n",
       "      <td>2.643427</td>\n",
       "      <td>3.62</td>\n",
       "      <td>3.827112</td>\n",
       "    </tr>\n",
       "    <tr>\n",
       "      <th>110</th>\n",
       "      <td>4</td>\n",
       "      <td>3.241118</td>\n",
       "      <td>0.727083</td>\n",
       "      <td>3.72</td>\n",
       "      <td>3.430772</td>\n",
       "    </tr>\n",
       "    <tr>\n",
       "      <th>66</th>\n",
       "      <td>3</td>\n",
       "      <td>2.467864</td>\n",
       "      <td>3.639289</td>\n",
       "      <td>2.78</td>\n",
       "      <td>3.109318</td>\n",
       "    </tr>\n",
       "    <tr>\n",
       "      <th>18</th>\n",
       "      <td>0</td>\n",
       "      <td>0.384830</td>\n",
       "      <td>0.806914</td>\n",
       "      <td>0.00</td>\n",
       "      <td>0.005634</td>\n",
       "    </tr>\n",
       "    <tr>\n",
       "      <th>46</th>\n",
       "      <td>1</td>\n",
       "      <td>2.946136</td>\n",
       "      <td>3.643210</td>\n",
       "      <td>2.06</td>\n",
       "      <td>1.468303</td>\n",
       "    </tr>\n",
       "    <tr>\n",
       "      <th>36</th>\n",
       "      <td>1</td>\n",
       "      <td>3.100389</td>\n",
       "      <td>4.157626</td>\n",
       "      <td>3.66</td>\n",
       "      <td>3.930974</td>\n",
       "    </tr>\n",
       "    <tr>\n",
       "      <th>56</th>\n",
       "      <td>2</td>\n",
       "      <td>2.428211</td>\n",
       "      <td>2.446707</td>\n",
       "      <td>2.66</td>\n",
       "      <td>3.191974</td>\n",
       "    </tr>\n",
       "    <tr>\n",
       "      <th>86</th>\n",
       "      <td>4</td>\n",
       "      <td>3.778800</td>\n",
       "      <td>3.802085</td>\n",
       "      <td>2.89</td>\n",
       "      <td>3.735972</td>\n",
       "    </tr>\n",
       "    <tr>\n",
       "      <th>147</th>\n",
       "      <td>6</td>\n",
       "      <td>5.205352</td>\n",
       "      <td>4.485659</td>\n",
       "      <td>5.88</td>\n",
       "      <td>5.959517</td>\n",
       "    </tr>\n",
       "    <tr>\n",
       "      <th>19</th>\n",
       "      <td>0</td>\n",
       "      <td>0.037889</td>\n",
       "      <td>0.969426</td>\n",
       "      <td>0.00</td>\n",
       "      <td>0.011790</td>\n",
       "    </tr>\n",
       "    <tr>\n",
       "      <th>152</th>\n",
       "      <td>6</td>\n",
       "      <td>4.977643</td>\n",
       "      <td>4.473498</td>\n",
       "      <td>6.00</td>\n",
       "      <td>5.959517</td>\n",
       "    </tr>\n",
       "    <tr>\n",
       "      <th>87</th>\n",
       "      <td>4</td>\n",
       "      <td>3.726434</td>\n",
       "      <td>3.802545</td>\n",
       "      <td>3.40</td>\n",
       "      <td>3.437308</td>\n",
       "    </tr>\n",
       "    <tr>\n",
       "      <th>94</th>\n",
       "      <td>4</td>\n",
       "      <td>3.924654</td>\n",
       "      <td>3.561772</td>\n",
       "      <td>3.75</td>\n",
       "      <td>2.804337</td>\n",
       "    </tr>\n",
       "    <tr>\n",
       "      <th>120</th>\n",
       "      <td>4</td>\n",
       "      <td>3.639223</td>\n",
       "      <td>2.995565</td>\n",
       "      <td>3.80</td>\n",
       "      <td>3.932035</td>\n",
       "    </tr>\n",
       "    <tr>\n",
       "      <th>12</th>\n",
       "      <td>0</td>\n",
       "      <td>0.877165</td>\n",
       "      <td>0.788883</td>\n",
       "      <td>0.00</td>\n",
       "      <td>-0.033357</td>\n",
       "    </tr>\n",
       "    <tr>\n",
       "      <th>9</th>\n",
       "      <td>0</td>\n",
       "      <td>-0.427667</td>\n",
       "      <td>0.786712</td>\n",
       "      <td>0.00</td>\n",
       "      <td>-0.039809</td>\n",
       "    </tr>\n",
       "    <tr>\n",
       "      <th>115</th>\n",
       "      <td>4</td>\n",
       "      <td>3.728282</td>\n",
       "      <td>1.214989</td>\n",
       "      <td>3.80</td>\n",
       "      <td>3.940525</td>\n",
       "    </tr>\n",
       "    <tr>\n",
       "      <th>29</th>\n",
       "      <td>0</td>\n",
       "      <td>-0.175428</td>\n",
       "      <td>3.692911</td>\n",
       "      <td>0.36</td>\n",
       "      <td>0.050071</td>\n",
       "    </tr>\n",
       "    <tr>\n",
       "      <th>43</th>\n",
       "      <td>1</td>\n",
       "      <td>2.373772</td>\n",
       "      <td>3.560316</td>\n",
       "      <td>3.25</td>\n",
       "      <td>2.900122</td>\n",
       "    </tr>\n",
       "    <tr>\n",
       "      <th>136</th>\n",
       "      <td>5</td>\n",
       "      <td>4.760774</td>\n",
       "      <td>0.760667</td>\n",
       "      <td>4.95</td>\n",
       "      <td>4.979489</td>\n",
       "    </tr>\n",
       "    <tr>\n",
       "      <th>68</th>\n",
       "      <td>3</td>\n",
       "      <td>2.472298</td>\n",
       "      <td>3.597509</td>\n",
       "      <td>2.69</td>\n",
       "      <td>2.973750</td>\n",
       "    </tr>\n",
       "    <tr>\n",
       "      <th>137</th>\n",
       "      <td>5</td>\n",
       "      <td>4.947132</td>\n",
       "      <td>0.837504</td>\n",
       "      <td>4.99</td>\n",
       "      <td>4.979489</td>\n",
       "    </tr>\n",
       "    <tr>\n",
       "      <th>30</th>\n",
       "      <td>0</td>\n",
       "      <td>0.109163</td>\n",
       "      <td>3.149819</td>\n",
       "      <td>0.06</td>\n",
       "      <td>0.015379</td>\n",
       "    </tr>\n",
       "    <tr>\n",
       "      <th>97</th>\n",
       "      <td>4</td>\n",
       "      <td>3.735715</td>\n",
       "      <td>3.603328</td>\n",
       "      <td>2.11</td>\n",
       "      <td>2.112374</td>\n",
       "    </tr>\n",
       "    <tr>\n",
       "      <th>31</th>\n",
       "      <td>0</td>\n",
       "      <td>0.350999</td>\n",
       "      <td>3.411154</td>\n",
       "      <td>0.06</td>\n",
       "      <td>0.015379</td>\n",
       "    </tr>\n",
       "    <tr>\n",
       "      <th>79</th>\n",
       "      <td>4</td>\n",
       "      <td>3.975496</td>\n",
       "      <td>4.087000</td>\n",
       "      <td>2.63</td>\n",
       "      <td>3.223644</td>\n",
       "    </tr>\n",
       "    <tr>\n",
       "      <th>67</th>\n",
       "      <td>3</td>\n",
       "      <td>2.375595</td>\n",
       "      <td>3.382385</td>\n",
       "      <td>2.80</td>\n",
       "      <td>3.069324</td>\n",
       "    </tr>\n",
       "    <tr>\n",
       "      <th>145</th>\n",
       "      <td>6</td>\n",
       "      <td>5.185124</td>\n",
       "      <td>4.486303</td>\n",
       "      <td>5.76</td>\n",
       "      <td>5.928270</td>\n",
       "    </tr>\n",
       "  </tbody>\n",
       "</table>\n",
       "</div>"
      ],
      "text/plain": [
       "     Actual        lr       svm    rf        gr\n",
       "15        0 -0.338543  0.775178  0.00 -0.116471\n",
       "95        4  3.857336  3.388653  1.88  1.734274\n",
       "157       6  4.787683  4.429514  4.68  4.284954\n",
       "106       4  4.238112  2.643427  3.62  3.827112\n",
       "110       4  3.241118  0.727083  3.72  3.430772\n",
       "66        3  2.467864  3.639289  2.78  3.109318\n",
       "18        0  0.384830  0.806914  0.00  0.005634\n",
       "46        1  2.946136  3.643210  2.06  1.468303\n",
       "36        1  3.100389  4.157626  3.66  3.930974\n",
       "56        2  2.428211  2.446707  2.66  3.191974\n",
       "86        4  3.778800  3.802085  2.89  3.735972\n",
       "147       6  5.205352  4.485659  5.88  5.959517\n",
       "19        0  0.037889  0.969426  0.00  0.011790\n",
       "152       6  4.977643  4.473498  6.00  5.959517\n",
       "87        4  3.726434  3.802545  3.40  3.437308\n",
       "94        4  3.924654  3.561772  3.75  2.804337\n",
       "120       4  3.639223  2.995565  3.80  3.932035\n",
       "12        0  0.877165  0.788883  0.00 -0.033357\n",
       "9         0 -0.427667  0.786712  0.00 -0.039809\n",
       "115       4  3.728282  1.214989  3.80  3.940525\n",
       "29        0 -0.175428  3.692911  0.36  0.050071\n",
       "43        1  2.373772  3.560316  3.25  2.900122\n",
       "136       5  4.760774  0.760667  4.95  4.979489\n",
       "68        3  2.472298  3.597509  2.69  2.973750\n",
       "137       5  4.947132  0.837504  4.99  4.979489\n",
       "30        0  0.109163  3.149819  0.06  0.015379\n",
       "97        4  3.735715  3.603328  2.11  2.112374\n",
       "31        0  0.350999  3.411154  0.06  0.015379\n",
       "79        4  3.975496  4.087000  2.63  3.223644\n",
       "67        3  2.375595  3.382385  2.80  3.069324\n",
       "145       6  5.185124  4.486303  5.76  5.928270"
      ]
     },
     "execution_count": 33,
     "metadata": {},
     "output_type": "execute_result"
    }
   ],
   "source": [
    "y_pred1 = lr.predict(X_test)\n",
    "y_pred2 = svm.predict(X_test)\n",
    "y_pred3 = rf.predict(X_test)\n",
    "y_pred4 = gr.predict(X_test)\n",
    "df1=pd.DataFrame({'Actual':y_test, 'lr':y_pred1, 'svm':y_pred2, 'rf':y_pred3, 'gr':y_pred4})\n",
    "df1"
   ]
  },
  {
   "cell_type": "code",
   "execution_count": 34,
   "id": "2ea03272",
   "metadata": {},
   "outputs": [],
   "source": [
    "from sklearn import metrics"
   ]
  },
  {
   "cell_type": "code",
   "execution_count": 36,
   "id": "61a51426",
   "metadata": {},
   "outputs": [
    {
     "name": "stdout",
     "output_type": "stream",
     "text": [
      "0.8731428767854771 0.0588735745921346 0.7992930905695612 0.7951707893122583\n"
     ]
    }
   ],
   "source": [
    "score1=metrics.r2_score(y_test,y_pred1)\n",
    "score2=metrics.r2_score(y_test,y_pred2)\n",
    "score3=metrics.r2_score(y_test,y_pred3)\n",
    "score4=metrics.r2_score(y_test,y_pred4)\n",
    "print(score1,score2,score3,score4)"
   ]
  },
  {
   "cell_type": "code",
   "execution_count": 37,
   "id": "56b3530f",
   "metadata": {},
   "outputs": [
    {
     "name": "stdout",
     "output_type": "stream",
     "text": [
      "0.5484445501287631 1.6026595719197807 0.5800000000000002 0.5391795455697805\n"
     ]
    }
   ],
   "source": [
    "s1= metrics.mean_absolute_error(y_test,y_pred1)\n",
    "s2= metrics.mean_absolute_error(y_test,y_pred2)\n",
    "s3= metrics.mean_absolute_error(y_test,y_pred3)\n",
    "s4= metrics.mean_absolute_error(y_test,y_pred4)\n",
    "print (s1,s2,s3,s4)"
   ]
  },
  {
   "cell_type": "code",
   "execution_count": 58,
   "id": "b8809abf",
   "metadata": {},
   "outputs": [
    {
     "data": {
      "text/html": [
       "<div>\n",
       "<style scoped>\n",
       "    .dataframe tbody tr th:only-of-type {\n",
       "        vertical-align: middle;\n",
       "    }\n",
       "\n",
       "    .dataframe tbody tr th {\n",
       "        vertical-align: top;\n",
       "    }\n",
       "\n",
       "    .dataframe thead th {\n",
       "        text-align: right;\n",
       "    }\n",
       "</style>\n",
       "<table border=\"1\" class=\"dataframe\">\n",
       "  <thead>\n",
       "    <tr style=\"text-align: right;\">\n",
       "      <th></th>\n",
       "      <th>Weight</th>\n",
       "      <th>Length1</th>\n",
       "      <th>Length2</th>\n",
       "      <th>Length3</th>\n",
       "      <th>Height</th>\n",
       "      <th>width</th>\n",
       "    </tr>\n",
       "  </thead>\n",
       "  <tbody>\n",
       "    <tr>\n",
       "      <th>0</th>\n",
       "      <td>7</td>\n",
       "      <td>10.1</td>\n",
       "      <td>10.6</td>\n",
       "      <td>11.6</td>\n",
       "      <td>1.72</td>\n",
       "      <td>1.14</td>\n",
       "    </tr>\n",
       "  </tbody>\n",
       "</table>\n",
       "</div>"
      ],
      "text/plain": [
       "   Weight  Length1  Length2  Length3  Height  width\n",
       "0       7     10.1     10.6     11.6    1.72   1.14"
      ]
     },
     "execution_count": 58,
     "metadata": {},
     "output_type": "execute_result"
    }
   ],
   "source": [
    "data= {'Weight':7,\n",
    "      'Length1':10.1,\n",
    "      'Length2':10.6,\n",
    "       'Length3':11.6,\n",
    "      'Height':1.72,\n",
    "       'width':1.14}\n",
    "\n",
    "df = pd.DataFrame(data,index=[0])\n",
    "df"
   ]
  },
  {
   "cell_type": "code",
   "execution_count": 59,
   "id": "eb0ede7b",
   "metadata": {},
   "outputs": [
    {
     "name": "stdout",
     "output_type": "stream",
     "text": [
      "[5.33956691]\n"
     ]
    }
   ],
   "source": [
    "new_pred = lr.predict(df)\n",
    "print(new_pred)"
   ]
  },
  {
   "cell_type": "code",
   "execution_count": 60,
   "id": "44a705ab",
   "metadata": {},
   "outputs": [
    {
     "data": {
      "text/plain": [
       "LinearRegression()"
      ]
     },
     "execution_count": 60,
     "metadata": {},
     "output_type": "execute_result"
    }
   ],
   "source": [
    "lr=lr.fit(X, y)\n",
    "lr"
   ]
  },
  {
   "cell_type": "code",
   "execution_count": 61,
   "id": "3a796beb",
   "metadata": {},
   "outputs": [],
   "source": [
    "import joblib"
   ]
  },
  {
   "cell_type": "code",
   "execution_count": 62,
   "id": "81a17653",
   "metadata": {},
   "outputs": [
    {
     "data": {
      "text/plain": [
       "['model_joblib_lr']"
      ]
     },
     "execution_count": 62,
     "metadata": {},
     "output_type": "execute_result"
    }
   ],
   "source": [
    "joblib.dump(gr,'model_joblib_lr')"
   ]
  },
  {
   "cell_type": "code",
   "execution_count": 63,
   "id": "3b74a49d",
   "metadata": {},
   "outputs": [],
   "source": [
    "model= joblib.load('model_joblib_lr')"
   ]
  },
  {
   "cell_type": "code",
   "execution_count": 66,
   "id": "cea8540d",
   "metadata": {},
   "outputs": [
    {
     "data": {
      "text/plain": [
       "array([5.95951693])"
      ]
     },
     "execution_count": 66,
     "metadata": {},
     "output_type": "execute_result"
    }
   ],
   "source": [
    "model.predict(df)"
   ]
  },
  {
   "cell_type": "code",
   "execution_count": null,
   "id": "0de344e3",
   "metadata": {},
   "outputs": [],
   "source": []
  }
 ],
 "metadata": {
  "kernelspec": {
   "display_name": "Python 3 (ipykernel)",
   "language": "python",
   "name": "python3"
  },
  "language_info": {
   "codemirror_mode": {
    "name": "ipython",
    "version": 3
   },
   "file_extension": ".py",
   "mimetype": "text/x-python",
   "name": "python",
   "nbconvert_exporter": "python",
   "pygments_lexer": "ipython3",
   "version": "3.9.7"
  }
 },
 "nbformat": 4,
 "nbformat_minor": 5
}
